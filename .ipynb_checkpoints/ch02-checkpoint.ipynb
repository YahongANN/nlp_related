{
 "cells": [
  {
   "cell_type": "code",
   "execution_count": null,
   "metadata": {},
   "outputs": [],
   "source": [
    "def load_dictionary():\n",
    "    dic = set()\n",
    "\n",
    "    # 按行读取字典文件，每行第一个空格之前的字符串提取出来。\n",
    "    for line in open(\"CoreNatureDictionary.mini.txt\",\"r\"):\n",
    "        dic.add(line[0:line.find('\t')])\n",
    "    \n",
    "    return dic"
   ]
  }
 ],
 "metadata": {
  "kernelspec": {
   "display_name": "Python 3",
   "language": "python",
   "name": "python3"
  },
  "language_info": {
   "codemirror_mode": {
    "name": "ipython",
    "version": 3
   },
   "file_extension": ".py",
   "mimetype": "text/x-python",
   "name": "python",
   "nbconvert_exporter": "python",
   "pygments_lexer": "ipython3",
   "version": "3.7.6"
  }
 },
 "nbformat": 4,
 "nbformat_minor": 4
}
